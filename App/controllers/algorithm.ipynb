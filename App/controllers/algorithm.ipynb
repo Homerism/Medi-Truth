{
  "cells": [
    {
      "cell_type": "code",
      "execution_count": 53,
      "metadata": {
        "id": "ZH_3EJk9ETc1"
      },
      "outputs": [],
      "source": [
        "from sklearn.feature_extraction.text import TfidfVectorizer\n",
        "from sklearn.linear_model import PassiveAggressiveClassifier\n",
        "from sklearn.model_selection import train_test_split\n",
        "from nltk.corpus import stopwords\n",
        "import pandas as pd\n",
        "import numpy as np\n",
        "import pickle\n",
        "import string\n",
        "import nltk\n",
        "import re"
      ]
    },
    {
      "cell_type": "code",
      "execution_count": 54,
      "metadata": {
        "colab": {
          "base_uri": "https://localhost:8080/"
        },
        "id": "pyh-JY23zSFe",
        "outputId": "96f4a080-742c-4810-aca5-6cac0928e459"
      },
      "outputs": [
        {
          "name": "stderr",
          "output_type": "stream",
          "text": [
            "[nltk_data] Downloading package stopwords to /root/nltk_data...\n",
            "[nltk_data]   Package stopwords is already up-to-date!\n"
          ]
        },
        {
          "data": {
            "text/plain": [
              "True"
            ]
          },
          "execution_count": 54,
          "metadata": {},
          "output_type": "execute_result"
        }
      ],
      "source": [
        "# Download nltk stopwords\n",
        "nltk.download('stopwords')"
      ]
    },
    {
      "cell_type": "code",
      "execution_count": 55,
      "metadata": {
        "id": "9w8uR7Y0EtAK"
      },
      "outputs": [],
      "source": [
        "# Load health claims dataset to a pandas DataFrame\n",
        "health_claims = pd.read_csv('/content/claims')"
      ]
    },
    {
      "cell_type": "code",
      "execution_count": 56,
      "metadata": {
        "colab": {
          "base_uri": "https://localhost:8080/"
        },
        "id": "pMvgsQeDMN_i",
        "outputId": "0c3cdc71-7848-48ee-8e9d-9bf8813af500"
      },
      "outputs": [
        {
          "data": {
            "text/plain": [
              "(25096, 9)"
            ]
          },
          "execution_count": 56,
          "metadata": {},
          "output_type": "execute_result"
        }
      ],
      "source": [
        "health_claims.shape #not necessary"
      ]
    },
    {
      "cell_type": "code",
      "execution_count": 57,
      "metadata": {
        "colab": {
          "base_uri": "https://localhost:8080/"
        },
        "id": "xUFJSDswMc1s",
        "outputId": "74c1b6d5-feff-40cd-c4ce-d53e8593d91d"
      },
      "outputs": [
        {
          "name": "stdout",
          "output_type": "stream",
          "text": [
            "     id name                                          statement  \\\n",
            "0  6771  NaN  Dawn dish soap contains ammonia even though it...   \n",
            "1   799  NaN  Do probiotics help with Irritable Bowel Syndrome?   \n",
            "2  2468  NaN                 Is blue light harmful to our eyes?   \n",
            "3  2634  NaN               Does caffeine help asthma sufferers?   \n",
            "\n",
            "                                         description           category  \\\n",
            "0  Could Mixing Dawn Dish Soap with Clorox Bleach...  {medical,science}   \n",
            "1                                                NaN          {medical}   \n",
            "2  <p>It seems reasonable to reduce exposure to b...          {medical}   \n",
            "3  <p><a href=\"https://www.nytimes.com/2010/11/30...          {medical}   \n",
            "\n",
            "   rating queries                     created_at  \\\n",
            "0       0     NaN  2020-06-28 21:40:18.799231+02   \n",
            "1       1     NaN  2019-12-13 14:27:18.231183+01   \n",
            "2       1     NaN  2019-12-13 14:31:00.722277+01   \n",
            "3       1     NaN  2019-12-13 14:31:25.271774+01   \n",
            "\n",
            "                      updated_at  \n",
            "0  2020-06-28 21:40:18.799231+02  \n",
            "1  2022-01-28 12:01:30.203904+01  \n",
            "2  2022-02-04 12:13:34.253699+01  \n",
            "3  2022-01-28 12:01:22.380887+01  \n"
          ]
        }
      ],
      "source": [
        "# Print first 4 rows of the dataset\n",
        "print(health_claims.head(4))"
      ]
    },
    {
      "cell_type": "code",
      "execution_count": 58,
      "metadata": {
        "colab": {
          "base_uri": "https://localhost:8080/"
        },
        "id": "09pZyStwMvSl",
        "outputId": "cdbb672b-6c39-4c7d-d831-6457edb597d3"
      },
      "outputs": [
        {
          "data": {
            "text/plain": [
              "id                 0\n",
              "name           24965\n",
              "statement          0\n",
              "description    23407\n",
              "category           0\n",
              "rating             0\n",
              "queries        24965\n",
              "created_at     22729\n",
              "updated_at     22729\n",
              "dtype: int64"
            ]
          },
          "execution_count": 58,
          "metadata": {},
          "output_type": "execute_result"
        }
      ],
      "source": [
        "#counting missing values in dataset\n",
        "health_claims.isnull().sum() #not necessary"
      ]
    },
    {
      "cell_type": "code",
      "execution_count": 59,
      "metadata": {
        "id": "EGQ-IMTQNHNb"
      },
      "outputs": [],
      "source": [
        "# Replace null values with empty string\n",
        "health_claims = health_claims.fillna('')"
      ]
    },
    {
      "cell_type": "code",
      "execution_count": 60,
      "metadata": {
        "id": "_FpVw9WXlbcL"
      },
      "outputs": [],
      "source": [
        "# Placing the statement column columns into 'contents' column\n",
        "health_claims['contents'] = health_claims['statement']"
      ]
    },
    {
      "cell_type": "code",
      "execution_count": 61,
      "metadata": {
        "id": "xoS4zS63mVmC"
      },
      "outputs": [],
      "source": [
        "# Separate data and label\n",
        "X = health_claims.drop(columns='rating', axis=1)\n",
        "Y = health_claims['rating']"
      ]
    },
    {
      "cell_type": "code",
      "execution_count": 62,
      "metadata": {
        "id": "0nBpkEV9_1nd"
      },
      "outputs": [],
      "source": [
        "# Define word optimization function to clean text data\n",
        "def clean_text(text):\n",
        "    claim = text.lower()\n",
        "    claim = re.sub('\\[.*?\\]', '', text)\n",
        "    claim = re.sub(\"\\\\W\",\" \",text) \n",
        "    claim = re.sub('https?://\\S+|www\\.\\S+', '', text)\n",
        "    claim = re.sub('<.*?>+', '', text)\n",
        "    claim = re.sub('[%s]' % re.escape(string.punctuation), '', text)\n",
        "    claim = re.sub('\\n', '', text)\n",
        "    claim = re.sub('\\w*\\d\\w*', '', text)    \n",
        "    return claim"
      ]
    },
    {
      "cell_type": "code",
      "execution_count": 63,
      "metadata": {
        "id": "JfYT6bzgsaSt"
      },
      "outputs": [],
      "source": [
        "# Clean 'contents' column using the clean_text function\n",
        "health_claims['contents'] = health_claims['contents'].apply(clean_text)"
      ]
    },
    {
      "cell_type": "code",
      "execution_count": 64,
      "metadata": {
        "id": "H-8U1oTHt-pF"
      },
      "outputs": [],
      "source": [
        "X = health_claims['contents'].values\n",
        "Y = health_claims['rating'].values"
      ]
    },
    {
      "cell_type": "code",
      "execution_count": 65,
      "metadata": {
        "id": "K7WWKO9svzr3"
      },
      "outputs": [],
      "source": [
        "# Convert text data to numerical data using TfidfVectorizer\n",
        "vector = TfidfVectorizer(stop_words='english', max_df=0.7)\n",
        "vector.fit(X)\n",
        "X = vector.transform(X)"
      ]
    },
    {
      "cell_type": "code",
      "execution_count": 66,
      "metadata": {
        "id": "BaJnHVZOwz3m"
      },
      "outputs": [],
      "source": [
        "# Split data into training and testing sets\n",
        "x_train, x_test, y_train, y_test = train_test_split(X, Y, stratify=Y, test_size=0.2, random_state=2)"
      ]
    },
    {
      "cell_type": "code",
      "execution_count": 67,
      "metadata": {
        "id": "Jk4LseV84PR6"
      },
      "outputs": [],
      "source": [
        "#Passive Aggressive Classifier"
      ]
    },
    {
      "cell_type": "code",
      "execution_count": 68,
      "metadata": {
        "colab": {
          "base_uri": "https://localhost:8080/",
          "height": 129
        },
        "id": "B-9rzCfJ4XTn",
        "outputId": "a95c6302-4105-4f6c-a768-71c711270df9"
      },
      "outputs": [
        {
          "name": "stderr",
          "output_type": "stream",
          "text": [
            "/usr/local/lib/python3.9/dist-packages/sklearn/linear_model/_stochastic_gradient.py:702: ConvergenceWarning: Maximum number of iteration reached before convergence. Consider increasing max_iter to improve the fit.\n",
            "  warnings.warn(\n"
          ]
        },
        {
          "data": {
            "text/html": [
              "<style>#sk-container-id-3 {color: black;background-color: white;}#sk-container-id-3 pre{padding: 0;}#sk-container-id-3 div.sk-toggleable {background-color: white;}#sk-container-id-3 label.sk-toggleable__label {cursor: pointer;display: block;width: 100%;margin-bottom: 0;padding: 0.3em;box-sizing: border-box;text-align: center;}#sk-container-id-3 label.sk-toggleable__label-arrow:before {content: \"▸\";float: left;margin-right: 0.25em;color: #696969;}#sk-container-id-3 label.sk-toggleable__label-arrow:hover:before {color: black;}#sk-container-id-3 div.sk-estimator:hover label.sk-toggleable__label-arrow:before {color: black;}#sk-container-id-3 div.sk-toggleable__content {max-height: 0;max-width: 0;overflow: hidden;text-align: left;background-color: #f0f8ff;}#sk-container-id-3 div.sk-toggleable__content pre {margin: 0.2em;color: black;border-radius: 0.25em;background-color: #f0f8ff;}#sk-container-id-3 input.sk-toggleable__control:checked~div.sk-toggleable__content {max-height: 200px;max-width: 100%;overflow: auto;}#sk-container-id-3 input.sk-toggleable__control:checked~label.sk-toggleable__label-arrow:before {content: \"▾\";}#sk-container-id-3 div.sk-estimator input.sk-toggleable__control:checked~label.sk-toggleable__label {background-color: #d4ebff;}#sk-container-id-3 div.sk-label input.sk-toggleable__control:checked~label.sk-toggleable__label {background-color: #d4ebff;}#sk-container-id-3 input.sk-hidden--visually {border: 0;clip: rect(1px 1px 1px 1px);clip: rect(1px, 1px, 1px, 1px);height: 1px;margin: -1px;overflow: hidden;padding: 0;position: absolute;width: 1px;}#sk-container-id-3 div.sk-estimator {font-family: monospace;background-color: #f0f8ff;border: 1px dotted black;border-radius: 0.25em;box-sizing: border-box;margin-bottom: 0.5em;}#sk-container-id-3 div.sk-estimator:hover {background-color: #d4ebff;}#sk-container-id-3 div.sk-parallel-item::after {content: \"\";width: 100%;border-bottom: 1px solid gray;flex-grow: 1;}#sk-container-id-3 div.sk-label:hover label.sk-toggleable__label {background-color: #d4ebff;}#sk-container-id-3 div.sk-serial::before {content: \"\";position: absolute;border-left: 1px solid gray;box-sizing: border-box;top: 0;bottom: 0;left: 50%;z-index: 0;}#sk-container-id-3 div.sk-serial {display: flex;flex-direction: column;align-items: center;background-color: white;padding-right: 0.2em;padding-left: 0.2em;position: relative;}#sk-container-id-3 div.sk-item {position: relative;z-index: 1;}#sk-container-id-3 div.sk-parallel {display: flex;align-items: stretch;justify-content: center;background-color: white;position: relative;}#sk-container-id-3 div.sk-item::before, #sk-container-id-3 div.sk-parallel-item::before {content: \"\";position: absolute;border-left: 1px solid gray;box-sizing: border-box;top: 0;bottom: 0;left: 50%;z-index: -1;}#sk-container-id-3 div.sk-parallel-item {display: flex;flex-direction: column;z-index: 1;position: relative;background-color: white;}#sk-container-id-3 div.sk-parallel-item:first-child::after {align-self: flex-end;width: 50%;}#sk-container-id-3 div.sk-parallel-item:last-child::after {align-self: flex-start;width: 50%;}#sk-container-id-3 div.sk-parallel-item:only-child::after {width: 0;}#sk-container-id-3 div.sk-dashed-wrapped {border: 1px dashed gray;margin: 0 0.4em 0.5em 0.4em;box-sizing: border-box;padding-bottom: 0.4em;background-color: white;}#sk-container-id-3 div.sk-label label {font-family: monospace;font-weight: bold;display: inline-block;line-height: 1.2em;}#sk-container-id-3 div.sk-label-container {text-align: center;}#sk-container-id-3 div.sk-container {/* jupyter's `normalize.less` sets `[hidden] { display: none; }` but bootstrap.min.css set `[hidden] { display: none !important; }` so we also need the `!important` here to be able to override the default hidden behavior on the sphinx rendered scikit-learn.org. See: https://github.com/scikit-learn/scikit-learn/issues/21755 */display: inline-block !important;position: relative;}#sk-container-id-3 div.sk-text-repr-fallback {display: none;}</style><div id=\"sk-container-id-3\" class=\"sk-top-container\"><div class=\"sk-text-repr-fallback\"><pre>PassiveAggressiveClassifier(max_iter=50)</pre><b>In a Jupyter environment, please rerun this cell to show the HTML representation or trust the notebook. <br />On GitHub, the HTML representation is unable to render, please try loading this page with nbviewer.org.</b></div><div class=\"sk-container\" hidden><div class=\"sk-item\"><div class=\"sk-estimator sk-toggleable\"><input class=\"sk-toggleable__control sk-hidden--visually\" id=\"sk-estimator-id-3\" type=\"checkbox\" checked><label for=\"sk-estimator-id-3\" class=\"sk-toggleable__label sk-toggleable__label-arrow\">PassiveAggressiveClassifier</label><div class=\"sk-toggleable__content\"><pre>PassiveAggressiveClassifier(max_iter=50)</pre></div></div></div></div></div>"
            ],
            "text/plain": [
              "PassiveAggressiveClassifier(max_iter=50)"
            ]
          },
          "execution_count": 68,
          "metadata": {},
          "output_type": "execute_result"
        }
      ],
      "source": [
        "# Train the Passive Aggressive Classifier model\n",
        "model = PassiveAggressiveClassifier(max_iter=100)\n",
        "model.fit(x_train, y_train)"
      ]
    },
    {
      "cell_type": "code",
      "execution_count": 69,
      "metadata": {
        "colab": {
          "base_uri": "https://localhost:8080/"
        },
        "id": "SFTl2tEg6SMk",
        "outputId": "bb9b051f-8382-4120-e6be-93535a6f2f5b"
      },
      "outputs": [
        {
          "name": "stdout",
          "output_type": "stream",
          "text": [
            "Model score on training set:  0.9894899382347081\n"
          ]
        }
      ],
      "source": [
        "# Evaluate the model on the training set\n",
        "model_score = model.score(x_train, y_train)\n",
        "print(\"Model score on training set: \", model_score)"
      ]
    },
    {
      "cell_type": "code",
      "execution_count": 70,
      "metadata": {
        "id": "jozzY-p1ztdE"
      },
      "outputs": [],
      "source": [
        "def classify_health_claims(news):\n",
        "    input_data = [news]\n",
        "    vectorized_data = vector.transform(input_data)\n",
        "    prediction = model.predict(vectorized_data)\n",
        "    return prediction"
      ]
    },
    {
      "cell_type": "code",
      "execution_count": 71,
      "metadata": {
        "colab": {
          "base_uri": "https://localhost:8080/"
        },
        "id": "IRnITjZA69Be",
        "outputId": "58ac8785-a905-4c72-ab46-3f1a221e78bf"
      },
      "outputs": [
        {
          "name": "stdout",
          "output_type": "stream",
          "text": [
            "Prediction:  [1]\n"
          ]
        }
      ],
      "source": [
        "# Test the function with an input news\n",
        "news = \"Acupuncture Best for Hot Flashes in Breast Cancer Survivors\"\n",
        "prediction = classify_health_claims(news)\n",
        "print(\"Prediction: \", prediction)"
      ]
    },
    {
      "cell_type": "code",
      "execution_count": 72,
      "metadata": {
        "id": "2veTq8S2rnxr"
      },
      "outputs": [],
      "source": [
        "# Save the vectorizer and model as pickle files\n",
        "filename_vectorizer = 'detection-vector.pkl'\n",
        "filename_model = 'detection-model.pkl'\n",
        "pickle.dump(vector, open(filename_vectorizer, 'wb'))\n",
        "pickle.dump(model, open(filename_model, 'wb'))"
      ]
    }
  ],
  "metadata": {
    "colab": {
      "provenance": []
    },
    "kernelspec": {
      "display_name": "Python 3",
      "name": "python3"
    },
    "language_info": {
      "name": "python"
    }
  },
  "nbformat": 4,
  "nbformat_minor": 0
}
